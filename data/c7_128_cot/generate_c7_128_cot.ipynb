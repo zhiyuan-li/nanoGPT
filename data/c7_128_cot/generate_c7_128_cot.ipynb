{
 "cells": [
  {
   "cell_type": "code",
   "execution_count": 1,
   "id": "91094326",
   "metadata": {
    "tags": []
   },
   "outputs": [],
   "source": [
    "import numpy as np\n",
    "import torch\n",
    "from tqdm import tqdm\n",
    "import os"
   ]
  },
  {
   "cell_type": "code",
   "execution_count": 5,
   "id": "4399fd97",
   "metadata": {
    "tags": []
   },
   "outputs": [],
   "source": [
    "'''\n",
    "choose between train and val\n",
    "'''\n",
    "filename = 'val'\n",
    "# filename = 'train'"
   ]
  },
  {
   "cell_type": "code",
   "execution_count": 6,
   "id": "4b0a8b3c",
   "metadata": {
    "tags": []
   },
   "outputs": [],
   "source": [
    "block_size = 256\n",
    "p = 7\n",
    "N = 1000000\n",
    "dtype = np.int8\n",
    "eq_id =p+1\n",
    "random_list = np.random.randint(low = 1,high =p+1, size = (N,block_size//2))\n",
    "partial_sum_random_list = ( np.cumsum(random_list, axis = 1) -1) % p + 1\n",
    "input_length_list = np.random.randint(low = 1,high =block_size//2, size = (N,), dtype = dtype)\n",
    "token_id_list = []\n",
    "for i in range(N):\n",
    "    current_input_tokens = random_list[i][:input_length_list[i]]\n",
    "    current_label_tokens = partial_sum_random_list[i][:input_length_list[i]]\n",
    "    token_id_list.append(list(current_input_tokens) + [eq_id] + list(current_label_tokens))"
   ]
  },
  {
   "cell_type": "code",
   "execution_count": 7,
   "id": "65db06ef",
   "metadata": {
    "tags": []
   },
   "outputs": [
    {
     "name": "stdout",
     "output_type": "stream",
     "text": [
      "writing val...\n"
     ]
    },
    {
     "name": "stderr",
     "output_type": "stream",
     "text": [
      "1000000it [00:26, 37692.19it/s]\n"
     ]
    }
   ],
   "source": [
    "\n",
    "arr = np.memmap(filename + '.bin', dtype=dtype, mode='write', shape=(block_size * len(token_id_list)))\n",
    "arr_label = np.memmap(filename + '_label.bin', dtype=dtype, mode='write', shape=(block_size * len(token_id_list)))\n",
    "print(f\"writing {filename}...\")\n",
    "for jj, example in tqdm(enumerate(token_id_list)):\n",
    "    arr[jj * block_size : jj * block_size + len(example)] = example\n",
    "    arr[jj * block_size + len(example) : (jj + 1) * block_size] = 0\n",
    "    arr_label[jj * block_size : jj * block_size + input_length_list[jj]] = -1\n",
    "    arr_label[jj * block_size + input_length_list[jj]  : jj * block_size + len(example) - 1] = example[input_length_list[jj] +1 :]\n",
    "    arr_label[jj * block_size + len(example) - 1 : (jj + 1) * block_size] = -1\n",
    "    # pad to bock_size\n",
    "arr.flush()\n",
    "arr_label.flush()"
   ]
  },
  {
   "cell_type": "code",
   "execution_count": 8,
   "id": "0dc7c16c",
   "metadata": {
    "tags": []
   },
   "outputs": [
    {
     "name": "stdout",
     "output_type": "stream",
     "text": [
      "[6 5 4 5 7 2 5 6 7 8 6 4 1 6 6 1 6 5 5 0 0 0 0 0 0 0 0 0 0 0 0 0 0 0 0 0 0\n",
      " 0 0 0 0 0 0 0 0 0 0 0 0 0 0 0 0 0 0 0 0 0 0 0 0 0 0 0]\n",
      "[-1 -1 -1 -1 -1 -1 -1 -1 -1  6  4  1  6  6  1  6  5  5 -1 -1 -1 -1 -1 -1\n",
      " -1 -1 -1 -1 -1 -1 -1 -1 -1 -1 -1 -1 -1 -1 -1 -1 -1 -1 -1 -1 -1 -1 -1 -1\n",
      " -1 -1 -1 -1 -1 -1 -1 -1 -1 -1 -1 -1 -1 -1 -1 -1]\n",
      "[0 0 0 0 0 0 0 0 0 0 0 0 0 0 0 0 0 0 0 0 0 0 0 0 0 0 0 0 0 0 0 0 0 0 0 0 0\n",
      " 0 0 0 0 0 0 0 0 0 0 0 0 0 0 0 0 0 0 0 0 0 0 0 0 0 0 0]\n",
      "[-1 -1 -1 -1 -1 -1 -1 -1 -1 -1 -1 -1 -1 -1 -1 -1 -1 -1 -1 -1 -1 -1 -1 -1\n",
      " -1 -1 -1 -1 -1 -1 -1 -1 -1 -1 -1 -1 -1 -1 -1 -1 -1 -1 -1 -1 -1 -1 -1 -1\n",
      " -1 -1 -1 -1 -1 -1 -1 -1 -1 -1 -1 -1 -1 -1 -1 -1]\n"
     ]
    }
   ],
   "source": [
    "print(arr[:64])\n",
    "print(arr_label[:64])\n",
    "print(arr[64:128])\n",
    "print(arr_label[64:128])"
   ]
  },
  {
   "cell_type": "code",
   "execution_count": null,
   "id": "4759e253-59aa-46d8-b573-f9feda60da06",
   "metadata": {},
   "outputs": [],
   "source": []
  }
 ],
 "metadata": {
  "kernelspec": {
   "display_name": "Python 3 (ipykernel)",
   "language": "python",
   "name": "python3"
  },
  "language_info": {
   "codemirror_mode": {
    "name": "ipython",
    "version": 3
   },
   "file_extension": ".py",
   "mimetype": "text/x-python",
   "name": "python",
   "nbconvert_exporter": "python",
   "pygments_lexer": "ipython3",
   "version": "3.11.2"
  },
  "vscode": {
   "interpreter": {
    "hash": "7ce87cd7785718493854dd4fd9b106cf8caf02fcaf29cf2056c1f0b44ba5db32"
   }
  }
 },
 "nbformat": 4,
 "nbformat_minor": 5
}
