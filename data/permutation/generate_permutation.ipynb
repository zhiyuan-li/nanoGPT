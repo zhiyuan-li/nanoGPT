{
 "cells": [
  {
   "cell_type": "code",
   "execution_count": 1,
   "id": "91094326",
   "metadata": {},
   "outputs": [],
   "source": [
    "import numpy as np\n",
    "import torch\n",
    "from tqdm import tqdm\n",
    "import os\n"
   ]
  },
  {
   "cell_type": "code",
   "execution_count": 24,
   "id": "4399fd97",
   "metadata": {},
   "outputs": [],
   "source": [
    "'''\n",
    "choose between train and val\n",
    "'''\n",
    "# filename = 'val'\n",
    "filename = 'train'"
   ]
  },
  {
   "cell_type": "code",
   "execution_count": 13,
   "id": "4d9d0831",
   "metadata": {},
   "outputs": [],
   "source": [
    "def f(a,b):\n",
    "    assert len(a) == len(b)\n",
    "    return [a[b[i]-1] for i in range(len(b))]\n",
    "\n",
    "def permute(list_of_permutations):\n",
    "    answer = list(range(1,len(list_of_permutations[0])+1))\n",
    "    for p in list_of_permutations:\n",
    "        answer = f(answer, list(p))\n",
    "    return answer"
   ]
  },
  {
   "cell_type": "code",
   "execution_count": 25,
   "id": "4b0a8b3c",
   "metadata": {},
   "outputs": [],
   "source": [
    "rng = np.random.default_rng(1234)\n",
    "block_size = 256\n",
    "p = 5\n",
    "C = block_size // (2 * (p+2))\n",
    "N = 1000000\n",
    "random_list = rng.permuted(np.tile(np.arange(1,p+1), N * C).reshape(N*C,p), axis=1).reshape(N,C,p)\n",
    "input_length_list = np.random.randint(low = 1,high =C+1, size = (N,), dtype = np.int8)\n",
    "token_id_list = []\n",
    "for i in range(N):\n",
    "    current_id = []\n",
    "    current_input_tokens = random_list[i]\n",
    "    for j in range(C):\n",
    "        current_id += [-3]+ list(current_input_tokens[j])+ [-4]\n",
    "    token_id_list.append(current_id + [-2] + [-3]+ list(permute(random_list[i]))+ [-4])"
   ]
  },
  {
   "cell_type": "code",
   "execution_count": 44,
   "id": "4a04abf2",
   "metadata": {},
   "outputs": [
    {
     "data": {
      "text/plain": [
       "[5, -2]"
      ]
     },
     "execution_count": 44,
     "metadata": {},
     "output_type": "execute_result"
    }
   ],
   "source": [
    "token_id_list[0][:-1]"
   ]
  },
  {
   "cell_type": "code",
   "execution_count": 26,
   "id": "65db06ef",
   "metadata": {},
   "outputs": [
    {
     "name": "stdout",
     "output_type": "stream",
     "text": [
      "writing train...\n"
     ]
    },
    {
     "name": "stderr",
     "output_type": "stream",
     "text": [
      "1000000it [00:12, 81239.66it/s]\n"
     ]
    }
   ],
   "source": [
    "dtype = np.int8\n",
    "arr = np.memmap(filename + '.bin', dtype=dtype, mode='w+', shape=(block_size * len(token_id_list)))\n",
    "arr_label = np.memmap(filename + '_label.bin', dtype=dtype, mode='w+', shape=(block_size * len(token_id_list)))\n",
    "print(f\"writing {filename}...\")\n",
    "for jj, example in tqdm(enumerate(token_id_list)):\n",
    "    arr[jj * block_size : jj * block_size + len(example)-(p+2)] = example[:-(p+2)]\n",
    "    arr[jj * block_size + len(example)-1 : (jj + 1) * block_size] = 0\n",
    "    arr_label[jj * block_size : (1+jj) * block_size ] = -1\n",
    "    arr_label[jj * block_size + (p+2)*C:jj * block_size + (p+2)*(C+1)] = example[-(p+2):]\n",
    "    # pad to bock_size\n",
    "arr.flush()\n",
    "arr_label.flush()"
   ]
  },
  {
   "cell_type": "code",
   "execution_count": 21,
   "id": "410dccb1",
   "metadata": {},
   "outputs": [
    {
     "name": "stdout",
     "output_type": "stream",
     "text": [
      "[-3  1  5  2  4  3 -4 -3  2  4  3  1  5 -4 -3  1  2  4  3  5 -4 -3  2  1\n",
      "  5  4  3 -4 -3  2  1  3  4  5 -4 -3  5  1  4  2  3 -4 -3  1  3  2  4  5\n",
      " -4 -3  2  4  3  5  1 -4 -3  3  5  2  4  1 -4 -3  5  3  2  4  1 -4 -3  4\n",
      "  2  3  1  5 -4 -3  5  3  4  1  2 -4 -3  3  2  4  5  1 -4 -3  3  2  1  5\n",
      "  4 -4 -3  1  4  3  5  2 -4 -3  3  2  5  1  4 -4 -3  2  3  5  1  4 -4 -3\n",
      "  3  1  5  2  4 -4 -2  4  5  3  1  0  0  0  0  0  0  0  0  0  0  0  0  0\n",
      "  0  0  0  0  0  0  0  0  0  0  0  0  0  0  0  0  0  0  0  0  0  0  0  0\n",
      "  0  0  0  0  0  0  0  0  0  0  0  0  0  0  0  0  0  0  0  0  0  0  0  0\n",
      "  0  0  0  0  0  0  0  0]\n"
     ]
    }
   ],
   "source": [
    "print(arr[:200])"
   ]
  },
  {
   "cell_type": "code",
   "execution_count": 5,
   "id": "a507a231",
   "metadata": {},
   "outputs": [],
   "source": [
    "data_dir = os.path.join('data', dataset)\n",
    "train_data = np.memmap(os.path.join(data_dir, 'train.bin'), dtype=np.uint16, mode='r')\n",
    "train_label = np.memmap(os.path.join(data_dir, 'train_label.bin'), dtype=np.int16, mode='r')\n",
    "val_data = np.memmap(os.path.join(data_dir, 'val.bin'), dtype=np.uint16, mode='r')\n",
    "val_label = np.memmap(os.path.join(data_dir, 'val_label.bin'), dtype=np.int16, mode='r')\n",
    "def get_batch(split):\n",
    "    data = train_data if split == 'train' else val_data\n",
    "    label = train_label if split == 'train' else val_label\n",
    "    ix = torch.randint(len(data) // block_size, (batch_size,))\n",
    "    x = torch.stack([torch.from_numpy((data[i * block_size:(i+1)*block_size]).astype(np.int64)) for i in ix])\n",
    "    y = torch.stack([torch.from_numpy((label[i * block_size:(i+1)*block_size]).astype(np.int64)) for i in ix])\n",
    "    if device_type == 'cuda':\n",
    "        # pin arrays x,y, which allows us to move them to GPU asynchronously (non_blocking=True)\n",
    "        x, y = x.pin_memory().to(device, non_blocking=True), y.pin_memory().to(device, non_blocking=True)\n",
    "    else:\n",
    "        x, y = x.to(device), y.to(device)\n",
    "    return x, y"
   ]
  },
  {
   "cell_type": "code",
   "execution_count": 5,
   "id": "fe38724d",
   "metadata": {},
   "outputs": [
    {
     "name": "stdout",
     "output_type": "stream",
     "text": [
      "0+0+1+0+1+1+1+0+1+1+0+0+1+0+0+1+1+1+0+1+0+0+0+1+0+1+1+1+1+0+1+1+0+0+0+1+1+1+0+1+0+0+1+0+1+1+0+0+1+1+1+0+1+1+0+1+1+1+1+1+1+1+1+1+0+0+1+0+0+1+0+1+1+1+1+1+1+0+1+1+0+1+0+0+0+0+1+1+1+1+1+1+0+0+0+0+0+1+1+1=\n"
     ]
    },
    {
     "data": {
      "text/plain": [
       "59"
      ]
     },
     "execution_count": 5,
     "metadata": {},
     "output_type": "execute_result"
    }
   ],
   "source": [
    "random_ints = np.random.randint(low = 0,high =2, size = 100, dtype = np.int8)\n",
    "exp = ''\n",
    "for i in random_ints[:-1]:\n",
    "    exp += str(i) + \"+\"\n",
    "exp += str(i) + '='\n",
    "print(exp)\n",
    "random_ints.sum()"
   ]
  },
  {
   "cell_type": "code",
   "execution_count": 7,
   "id": "eeb37f96",
   "metadata": {},
   "outputs": [
    {
     "data": {
      "text/plain": [
       "array([0, 0, 1, 0, 1, 1, 1, 0, 1, 1, 0, 0, 1, 0, 0, 1, 1, 1, 0, 1, 0, 0,\n",
       "       0, 1, 0, 1, 1, 1, 1, 0, 1, 1, 0, 0, 0, 1, 1, 1, 0, 1, 0, 0, 1, 0,\n",
       "       1, 1, 0, 0, 1, 1, 1, 0, 1, 1, 0, 1, 1, 1, 1, 1, 1, 1, 1, 1, 0, 0,\n",
       "       1, 0, 0, 1, 0, 1, 1, 1, 1, 1, 1, 0, 1, 1, 0, 1, 0, 0, 0, 0, 1, 1,\n",
       "       1, 1, 1, 1, 0, 0, 0, 0, 0, 1, 1, 1], dtype=int8)"
      ]
     },
     "execution_count": 7,
     "metadata": {},
     "output_type": "execute_result"
    }
   ],
   "source": [
    "random_ints"
   ]
  },
  {
   "cell_type": "code",
   "execution_count": 1,
   "id": "62c5f019",
   "metadata": {},
   "outputs": [
    {
     "ename": "NameError",
     "evalue": "name 'np' is not defined",
     "output_type": "error",
     "traceback": [
      "\u001b[0;31m---------------------------------------------------------------------------\u001b[0m",
      "\u001b[0;31mNameError\u001b[0m                                 Traceback (most recent call last)",
      "Cell \u001b[0;32mIn[1], line 1\u001b[0m\n\u001b[0;32m----> 1\u001b[0m np\u001b[39m.\u001b[39mrandom\u001b[39m.\u001b[39mrandn(\u001b[39m100\u001b[39m)\n",
      "\u001b[0;31mNameError\u001b[0m: name 'np' is not defined"
     ]
    }
   ],
   "source": [
    "np.random.randn(100)"
   ]
  },
  {
   "cell_type": "code",
   "execution_count": null,
   "id": "5f3cb005",
   "metadata": {},
   "outputs": [],
   "source": []
  }
 ],
 "metadata": {
  "kernelspec": {
   "display_name": "Python 3 (ipykernel)",
   "language": "python",
   "name": "python3"
  },
  "language_info": {
   "codemirror_mode": {
    "name": "ipython",
    "version": 3
   },
   "file_extension": ".py",
   "mimetype": "text/x-python",
   "name": "python",
   "nbconvert_exporter": "python",
   "pygments_lexer": "ipython3",
   "version": "3.11.2"
  },
  "vscode": {
   "interpreter": {
    "hash": "7ce87cd7785718493854dd4fd9b106cf8caf02fcaf29cf2056c1f0b44ba5db32"
   }
  }
 },
 "nbformat": 4,
 "nbformat_minor": 5
}
