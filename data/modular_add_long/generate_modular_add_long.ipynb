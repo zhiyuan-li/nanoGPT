{
 "cells": [
  {
   "cell_type": "code",
   "execution_count": 3,
   "id": "91094326",
   "metadata": {},
   "outputs": [],
   "source": [
    "import numpy as np\n",
    "import torch\n",
    "from tqdm import tqdm\n",
    "import os"
   ]
  },
  {
   "cell_type": "code",
   "execution_count": 13,
   "id": "4399fd97",
   "metadata": {},
   "outputs": [],
   "source": [
    "'''\n",
    "choose between train and val\n",
    "'''\n",
    "# filename = 'val'\n",
    "filename = 'train'"
   ]
  },
  {
   "cell_type": "code",
   "execution_count": 14,
   "id": "4b0a8b3c",
   "metadata": {},
   "outputs": [],
   "source": [
    "block_size = 256\n",
    "p = 7\n",
    "N = 1000000\n",
    "dtype = np.int8\n",
    "eq_id = p+1\n",
    "random_list = np.random.randint(low = 1,high =p+1, size = (N,block_size//2), dtype = np.int32)\n",
    "input_length_list = np.random.randint(low = 1,high =block_size//2, size = (N,), dtype = dtype)\n",
    "token_id_list = []\n",
    "for i in range(N):\n",
    "    current_input_tokens = random_list[i][:input_length_list[i]]\n",
    "    token_id_list.append(list(current_input_tokens) + [eq_id] + [(current_input_tokens.sum()-1) % p + 1])"
   ]
  },
  {
   "cell_type": "code",
   "execution_count": 15,
   "id": "65db06ef",
   "metadata": {},
   "outputs": [
    {
     "name": "stdout",
     "output_type": "stream",
     "text": [
      "writing train...\n"
     ]
    },
    {
     "name": "stderr",
     "output_type": "stream",
     "text": [
      "1000000it [00:06, 158220.39it/s]\n"
     ]
    }
   ],
   "source": [
    "arr = np.memmap(filename + '.bin', dtype=dtype, mode='w+', shape=(block_size * len(token_id_list)))\n",
    "arr_label = np.memmap(filename + '_label.bin', dtype=dtype, mode='w+', shape=(block_size * len(token_id_list)))\n",
    "print(f\"writing {filename}...\")\n",
    "for jj, example in tqdm(enumerate(token_id_list)):\n",
    "    arr[jj * block_size : jj * block_size + len(example)-1] = example[:-1]\n",
    "    arr[jj * block_size + len(example)-1 : (jj + 1) * block_size] = 0\n",
    "    arr_label[jj * block_size : (1+jj) * block_size ] = -1\n",
    "    arr_label[jj * block_size + input_length_list[jj]] = example[-1]\n",
    "    # pad to bock_size\n",
    "arr.flush()\n",
    "arr_label.flush()"
   ]
  }
 ],
 "metadata": {
  "kernelspec": {
   "display_name": "nanogpt-m2",
   "language": "python",
   "name": "python3"
  },
  "language_info": {
   "codemirror_mode": {
    "name": "ipython",
    "version": 3
   },
   "file_extension": ".py",
   "mimetype": "text/x-python",
   "name": "python",
   "nbconvert_exporter": "python",
   "pygments_lexer": "ipython3",
   "version": "3.11.2"
  },
  "vscode": {
   "interpreter": {
    "hash": "7ce87cd7785718493854dd4fd9b106cf8caf02fcaf29cf2056c1f0b44ba5db32"
   }
  }
 },
 "nbformat": 4,
 "nbformat_minor": 5
}
