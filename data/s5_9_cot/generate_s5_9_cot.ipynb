{
 "cells": [
  {
   "cell_type": "code",
   "execution_count": 2,
   "id": "91094326",
   "metadata": {
    "tags": []
   },
   "outputs": [],
   "source": [
    "import numpy as np\n",
    "import torch\n",
    "from tqdm import tqdm\n",
    "import os\n"
   ]
  },
  {
   "cell_type": "code",
   "execution_count": 61,
   "id": "4399fd97",
   "metadata": {
    "tags": []
   },
   "outputs": [],
   "source": [
    "'''\n",
    "choose between train and val\n",
    "'''\n",
    "filename = 'val'\n",
    "# filename = 'train'"
   ]
  },
  {
   "cell_type": "code",
   "execution_count": 41,
   "id": "4d9d0831",
   "metadata": {
    "tags": []
   },
   "outputs": [],
   "source": [
    "def f(a,b): # range of a,b is {1,2,...,n}\n",
    "    assert len(a) == len(b)\n",
    "    return [a[b[i]-1] for i in range(len(b))]  # f(a,b)[i] = a[b[i]]\n",
    "\n",
    "def permute(list_of_permutations,partial_sum=True):\n",
    "    \"\"\"\n",
    "    list_of_permutations: each permutation in the list is over {1,2,..,n} where n is some integer. \n",
    "    If partial_sum = True, then answer is a list of permutations containing all the intermediate results.\n",
    "    If partial_sum = False, then answer is a list containing only one permutation which is final answer.\n",
    "    \"\"\"\n",
    "    answer = [list(list_of_permutations[0])]\n",
    "    for p in list_of_permutations[1:]:\n",
    "        if partial_sum:\n",
    "            answer.append( f(answer[-1], list(p)))\n",
    "        else:\n",
    "            answer[-1] = f(answer[-1], list(p))\n",
    "    return answer"
   ]
  },
  {
   "cell_type": "code",
   "execution_count": 62,
   "id": "4b0a8b3c",
   "metadata": {
    "tags": []
   },
   "outputs": [
    {
     "name": "stderr",
     "output_type": "stream",
     "text": [
      "100%|██████████| 1000000/1000000 [00:20<00:00, 48719.18it/s]\n"
     ]
    }
   ],
   "source": [
    "rng = np.random.default_rng(1234)\n",
    "block_size = 128\n",
    "p = 5\n",
    "C = 9\n",
    "N = 1000000\n",
    "left_bracket_id = p+1\n",
    "right_bracket_id = p+2\n",
    "eq_id = p+3\n",
    "dtype = np.int8\n",
    "\n",
    "random_list = rng.permuted(np.tile(np.arange(1,p+1), N * C).reshape(N*C,p), axis=1).reshape(N,C,p)\n",
    "input_length_list = np.random.randint(low = 1,high =C+1, size = (N,), dtype = dtype)\n",
    "token_id_list = []\n",
    "for i in tqdm(range(N)):\n",
    "    current_id = []\n",
    "    current_input_tokens = random_list[i]\n",
    "    for j in range(input_length_list[i]):\n",
    "        current_id += [left_bracket_id]+ list(current_input_tokens[j])+ [right_bracket_id]\n",
    "    answer = [[left_bracket_id] + perm + [right_bracket_id] for perm in permute(random_list[i][:input_length_list[i]],partial_sum=True)]\n",
    "    token_id_list.append(current_id + [eq_id] + sum(answer,[]))\n",
    "# print( token_id_list)"
   ]
  },
  {
   "cell_type": "code",
   "execution_count": 44,
   "id": "4a04abf2",
   "metadata": {},
   "outputs": [
    {
     "data": {
      "text/plain": [
       "[5, -2]"
      ]
     },
     "execution_count": 44,
     "metadata": {},
     "output_type": "execute_result"
    }
   ],
   "source": [
    "token_id_list[0][:-1]"
   ]
  },
  {
   "cell_type": "code",
   "execution_count": 63,
   "id": "65db06ef",
   "metadata": {
    "tags": []
   },
   "outputs": [
    {
     "name": "stdout",
     "output_type": "stream",
     "text": [
      "writing val...\n"
     ]
    },
    {
     "name": "stderr",
     "output_type": "stream",
     "text": [
      "1000000it [00:16, 59991.60it/s]\n"
     ]
    }
   ],
   "source": [
    "arr = np.memmap(filename + '.bin', dtype=dtype, mode='w+', shape=(block_size * len(token_id_list)))\n",
    "arr_label = np.memmap(filename + '_label.bin', dtype=dtype, mode='w+', shape=(block_size * len(token_id_list)))\n",
    "print(f\"writing {filename}...\")\n",
    "for jj, example in tqdm(enumerate(token_id_list)):\n",
    "    arr[jj * block_size : jj * block_size + len(example)] = example\n",
    "    arr[jj * block_size + len(example) + 1 : (jj + 1) * block_size] = 0\n",
    "    arr_label[jj * block_size : (1+jj) * block_size ] = -1\n",
    "    arr_label[jj * block_size + (p+2)*input_length_list[jj] :jj * block_size + len(example)-1] = example[input_length_list[jj]*(p+2)+1:]\n",
    "    # pad to block_size\n",
    "arr.flush()\n",
    "arr_label.flush()"
   ]
  },
  {
   "cell_type": "code",
   "execution_count": 64,
   "id": "410dccb1",
   "metadata": {
    "tags": []
   },
   "outputs": [
    {
     "name": "stdout",
     "output_type": "stream",
     "text": [
      "[6 1 5 2 4 3 7 6 2 4 3 1 5 7 6 1 2 4 3 5 7 6 2 1 5 4 3 7 6 2 1 3 4 5 7 6 5\n",
      " 1 4 2 3 7 6 1 3 2 4 5 7 6 2 4 3 5 1 7 6 3 5 2 4 1 7 8]\n",
      "[-1 -1 -1 -1 -1 -1 -1 -1 -1 -1 -1 -1 -1 -1 -1 -1 -1 -1 -1 -1 -1 -1 -1 -1\n",
      " -1 -1 -1 -1 -1 -1 -1 -1 -1 -1 -1 -1 -1 -1 -1 -1 -1 -1 -1 -1 -1 -1 -1 -1\n",
      " -1 -1 -1 -1 -1 -1 -1 -1 -1 -1 -1 -1 -1 -1 -1  6]\n",
      "[6 1 5 2 4 3 7 6 5 4 2 1 3 7 6 5 4 1 2 3 7 6 4 5 3 2 1 7 6 5 4 3 2 1 7 6 1\n",
      " 5 2 4 3 7 6 1 2 5 4 3 7 6 2 4 5 3 1 7 6 5 1 4 3 2 7 0]\n",
      "[ 1  5  2  4  3  7  6  5  4  2  1  3  7  6  5  4  1  2  3  7  6  4  5  3\n",
      "  2  1  7  6  5  4  3  2  1  7  6  1  5  2  4  3  7  6  1  2  5  4  3  7\n",
      "  6  2  4  5  3  1  7  6  5  1  4  3  2  7 -1 -1]\n"
     ]
    }
   ],
   "source": [
    "print(arr[:64])\n",
    "print(arr_label[:64])\n",
    "print(arr[64:128])\n",
    "print(arr_label[64:128])"
   ]
  },
  {
   "cell_type": "code",
   "execution_count": 67,
   "id": "4037d34e-9878-4067-bef2-83087ab50bf6",
   "metadata": {
    "tags": []
   },
   "outputs": [
    {
     "name": "stdout",
     "output_type": "stream",
     "text": [
      "[6 2 1 4 5 3 7 6 1 3 5 2 4 7 6 2 1 3 5 4 7 8 6 2 1 4 5 3 7 6 2 4 3 1 5 7 6\n",
      " 4 2 3 5 1 7 0 0 0 0 0 0 0 0 0 0 0 0 0 0 0 0 0 0 0 0 0]\n",
      "[-1 -1 -1 -1 -1 -1 -1 -1 -1 -1 -1 -1 -1 -1 -1 -1 -1 -1 -1 -1 -1  6  2  1\n",
      "  4  5  3  7  6  2  4  3  1  5  7  6  4  2  3  5  1  7 -1 -1 -1 -1 -1 -1\n",
      " -1 -1 -1 -1 -1 -1 -1 -1 -1 -1 -1 -1 -1 -1 -1 -1]\n",
      "[0 0 0 0 0 0 0 0 0 0 0 0 0 0 0 0 0 0 0 0 0 0 0 0 0 0 0 0 0 0 0 0 0 0 0 0 0\n",
      " 0 0 0 0 0 0 0 0 0 0 0 0 0 0 0 0 0 0 0 0 0 0 0 0 0 0 0 6 3 4 2 1 5 7 6 1 4\n",
      " 3 5 2 7 6 4 1 2 5 3 7 6 3 4 1 5 2 7 6 3 2 4 5 1 7 6 3 1 4 2 5 7 6 3 2 5 4\n",
      " 1 7 6 4 2 1 5 3 7 6 4 3 2 5 1 7 8 6 3 4 2 1 5 7 6 3 1 2 5 4 7 6 5 3 1 4 2\n",
      " 7 6 1 4 5 2 3 7 6 5 4 2 3 1 7 6 2 5 3 4 1 7 6 3 5 1 4 2 7 6 4 5 3 2 1 7 6\n",
      " 2 3 5 1 4 7 0 6 5 3 2 1 4 7 6 3 5 1 2 4 7 6 2 4 5 1 3 7 6 3 1 2 5 4 7 6 2\n",
      " 1 4 3 5 7 6 4 3 5 2 1 7 6 2 5 1 4 3 7 6 2 4 3 1 5 7 8 6 5 3 2 1 4 7 6 2 4\n",
      " 5 3 1 7 6 4 3 1 2 5 7 6 1 4 3 5 2 7 6 4 1 5 3 2 7 6 3 5 2 1 4 7 6 5 4 3 1\n",
      " 2 7 6 4 1 3 5 2 7 0 0 0 0 0 0 0 0 0 0 0 0 0 0 0]\n",
      "[-1 -1 -1 -1 -1 -1 -1 -1 -1 -1 -1 -1 -1 -1 -1 -1 -1 -1 -1 -1 -1 -1 -1 -1\n",
      " -1 -1 -1 -1 -1 -1 -1 -1 -1 -1 -1 -1 -1 -1 -1 -1 -1 -1 -1 -1 -1 -1 -1 -1\n",
      " -1 -1 -1 -1 -1 -1 -1 -1 -1 -1 -1 -1 -1 -1 -1 -1 -1 -1 -1 -1 -1 -1 -1 -1\n",
      " -1 -1 -1 -1 -1 -1 -1 -1 -1 -1 -1 -1 -1 -1 -1 -1 -1 -1 -1 -1 -1 -1 -1 -1\n",
      " -1 -1 -1 -1 -1 -1 -1 -1 -1 -1 -1 -1 -1 -1 -1 -1 -1 -1 -1 -1 -1 -1 -1 -1\n",
      " -1 -1 -1 -1 -1 -1 -1  6  3  4  2  1  5  7  6  3  1  2  5  4  7  6  5  3\n",
      "  1  4  2  7  6  1  4  5  2  3  7  6  5  4  2  3  1  7  6  2  5  3  4  1\n",
      "  7  6  3  5  1  4  2  7  6  4  5  3  2  1  7  6  2  3  5  1  4  7 -1 -1\n",
      " -1 -1 -1 -1 -1 -1 -1 -1 -1 -1 -1 -1 -1 -1 -1 -1 -1 -1 -1 -1 -1 -1 -1 -1\n",
      " -1 -1 -1 -1 -1 -1 -1 -1 -1 -1 -1 -1 -1 -1 -1 -1 -1 -1 -1 -1 -1 -1 -1 -1\n",
      " -1 -1 -1 -1 -1 -1 -1 -1  6  5  3  2  1  4  7  6  2  4  5  3  1  7  6  4\n",
      "  3  1  2  5  7  6  1  4  3  5  2  7  6  4  1  5  3  2  7  6  3  5  2  1\n",
      "  4  7  6  5  4  3  1  2  7  6  4  1  3  5  2  7 -1 -1 -1 -1 -1 -1 -1 -1\n",
      " -1 -1 -1 -1 -1 -1 -1 -1]\n"
     ]
    }
   ],
   "source": [
    "offset=384\n",
    "print(arr[+offset:64+offset])\n",
    "print(arr_label[+offset:64+offset])\n",
    "print(arr[64+offset:offset+offset])\n",
    "print(arr_label[64+offset:offset+offset])"
   ]
  },
  {
   "cell_type": "code",
   "execution_count": null,
   "id": "306277c8-5d64-4a8f-a3bc-613e71919204",
   "metadata": {},
   "outputs": [],
   "source": [
    "print(arr[+128:64+128])\n",
    "print(arr_label[+128:64+128])\n",
    "print(arr[64+128:128+128])\n",
    "print(arr_label[64+128:128+128])"
   ]
  },
  {
   "cell_type": "code",
   "execution_count": 16,
   "id": "51bcf19e",
   "metadata": {
    "tags": []
   },
   "outputs": [
    {
     "data": {
      "text/plain": [
       "[1, 2, [2]]"
      ]
     },
     "execution_count": 16,
     "metadata": {},
     "output_type": "execute_result"
    }
   ],
   "source": [
    "a = [1,2]\n",
    "a.append([2])\n",
    "a"
   ]
  },
  {
   "cell_type": "code",
   "execution_count": 18,
   "id": "ed4171dc-4138-4d6a-a488-3e096a042bc7",
   "metadata": {
    "tags": []
   },
   "outputs": [
    {
     "ename": "AttributeError",
     "evalue": "'list' object has no attribute 'join'",
     "output_type": "error",
     "traceback": [
      "\u001b[0;31m---------------------------------------------------------------------------\u001b[0m",
      "\u001b[0;31mAttributeError\u001b[0m                            Traceback (most recent call last)",
      "Cell \u001b[0;32mIn[18], line 1\u001b[0m\n\u001b[0;32m----> 1\u001b[0m \u001b[43m[\u001b[49m\u001b[43m[\u001b[49m\u001b[38;5;241;43m2\u001b[39;49m\u001b[43m]\u001b[49m\u001b[43m,\u001b[49m\u001b[43m[\u001b[49m\u001b[38;5;241;43m3\u001b[39;49m\u001b[43m]\u001b[49m\u001b[43m]\u001b[49m\u001b[38;5;241;43m.\u001b[39;49m\u001b[43mjoin\u001b[49m()\n",
      "\u001b[0;31mAttributeError\u001b[0m: 'list' object has no attribute 'join'"
     ]
    }
   ],
   "source": [
    "[[2],[3]].join()"
   ]
  },
  {
   "cell_type": "code",
   "execution_count": 19,
   "id": "b42bf38a-c768-4cfa-ae66-e473cc85a968",
   "metadata": {
    "tags": []
   },
   "outputs": [
    {
     "data": {
      "text/plain": [
       "[1, 2, 3]"
      ]
     },
     "execution_count": 19,
     "metadata": {},
     "output_type": "execute_result"
    }
   ],
   "source": [
    "sum([[1],[2,3]], [])"
   ]
  },
  {
   "cell_type": "code",
   "execution_count": null,
   "id": "5bb2b3ae-a095-4aad-8ba8-23b6eb7783ab",
   "metadata": {},
   "outputs": [],
   "source": []
  }
 ],
 "metadata": {
  "kernelspec": {
   "display_name": "Python 3 (ipykernel)",
   "language": "python",
   "name": "python3"
  },
  "language_info": {
   "codemirror_mode": {
    "name": "ipython",
    "version": 3
   },
   "file_extension": ".py",
   "mimetype": "text/x-python",
   "name": "python",
   "nbconvert_exporter": "python",
   "pygments_lexer": "ipython3",
   "version": "3.11.2"
  },
  "vscode": {
   "interpreter": {
    "hash": "7ce87cd7785718493854dd4fd9b106cf8caf02fcaf29cf2056c1f0b44ba5db32"
   }
  }
 },
 "nbformat": 4,
 "nbformat_minor": 5
}
