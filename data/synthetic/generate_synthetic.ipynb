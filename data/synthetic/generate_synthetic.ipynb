{
 "cells": [
  {
   "cell_type": "code",
   "execution_count": 49,
   "id": "91094326",
   "metadata": {},
   "outputs": [],
   "source": [
    "import numpy as np\n",
    "import torch\n",
    "from tqdm import tqdm\n",
    "import os"
   ]
  },
  {
   "cell_type": "code",
   "execution_count": 53,
   "id": "4399fd97",
   "metadata": {},
   "outputs": [],
   "source": [
    "'''\n",
    "choose between train and val\n",
    "'''\n",
    "# filename = 'val'\n",
    "filename = 'train'"
   ]
  },
  {
   "cell_type": "code",
   "execution_count": 54,
   "id": "4b0a8b3c",
   "metadata": {},
   "outputs": [],
   "source": [
    "block_size = 16\n",
    "p = 7\n",
    "N = 1000000\n",
    "random_list = np.random.randint(low = 1,high =8, size = (N,8), dtype = np.int8)\n",
    "input_length_list = np.random.randint(low = 1,high =block_size//2, size = (N,), dtype = np.int8)\n",
    "token_id_list = []\n",
    "for i in range(N):\n",
    "    current_input_tokens = random_list[i][:input_length_list[i]]\n",
    "    token_id_list.append(list(current_input_tokens) + [-2] + [(current_input_tokens.sum()-1) % p + 1])"
   ]
  },
  {
   "cell_type": "code",
   "execution_count": 44,
   "id": "4a04abf2",
   "metadata": {},
   "outputs": [
    {
     "data": {
      "text/plain": [
       "[5, -2]"
      ]
     },
     "execution_count": 44,
     "metadata": {},
     "output_type": "execute_result"
    }
   ],
   "source": [
    "token_id_list[0][:-1]"
   ]
  },
  {
   "cell_type": "code",
   "execution_count": 55,
   "id": "65db06ef",
   "metadata": {},
   "outputs": [
    {
     "name": "stdout",
     "output_type": "stream",
     "text": [
      "writing train...\n"
     ]
    },
    {
     "name": "stderr",
     "output_type": "stream",
     "text": [
      "1000000it [00:03, 266844.55it/s]\n"
     ]
    }
   ],
   "source": [
    "dtype = np.int8\n",
    "arr = np.memmap(filename + '.bin', dtype=dtype, mode='w+', shape=(block_size * len(token_id_list)))\n",
    "arr_label = np.memmap(filename + '_label.bin', dtype=dtype, mode='w+', shape=(block_size * len(token_id_list)))\n",
    "print(f\"writing {filename}...\")\n",
    "for jj, example in tqdm(enumerate(token_id_list)):\n",
    "    arr[jj * block_size : jj * block_size + len(example)-1] = example[:-1]\n",
    "    arr[jj * block_size + len(example)-1 : (jj + 1) * block_size] = 0\n",
    "    arr_label[jj * block_size : (1+jj) * block_size ] = -1\n",
    "    arr_label[jj * block_size + input_length_list[jj]] = example[-1]\n",
    "    # pad to bock_size\n",
    "arr.flush()\n",
    "arr_label.flush()"
   ]
  },
  {
   "cell_type": "code",
   "execution_count": 5,
   "id": "a507a231",
   "metadata": {},
   "outputs": [],
   "source": [
    "data_dir = os.path.join('data', dataset)\n",
    "train_data = np.memmap(os.path.join(data_dir, 'train.bin'), dtype=np.uint16, mode='r')\n",
    "train_label = np.memmap(os.path.join(data_dir, 'train_label.bin'), dtype=np.int16, mode='r')\n",
    "val_data = np.memmap(os.path.join(data_dir, 'val.bin'), dtype=np.uint16, mode='r')\n",
    "val_label = np.memmap(os.path.join(data_dir, 'val_label.bin'), dtype=np.int16, mode='r')\n",
    "def get_batch(split):\n",
    "    data = train_data if split == 'train' else val_data\n",
    "    label = train_label if split == 'train' else val_label\n",
    "    ix = torch.randint(len(data) // block_size, (batch_size,))\n",
    "    x = torch.stack([torch.from_numpy((data[i * block_size:(i+1)*block_size]).astype(np.int64)) for i in ix])\n",
    "    y = torch.stack([torch.from_numpy((label[i * block_size:(i+1)*block_size]).astype(np.int64)) for i in ix])\n",
    "    if device_type == 'cuda':\n",
    "        # pin arrays x,y, which allows us to move them to GPU asynchronously (non_blocking=True)\n",
    "        x, y = x.pin_memory().to(device, non_blocking=True), y.pin_memory().to(device, non_blocking=True)\n",
    "    else:\n",
    "        x, y = x.to(device), y.to(device)\n",
    "    return x, y"
   ]
  },
  {
   "cell_type": "code",
   "execution_count": null,
   "id": "fe38724d",
   "metadata": {},
   "outputs": [],
   "source": []
  }
 ],
 "metadata": {
  "kernelspec": {
   "display_name": "nanogpt-m2",
   "language": "python",
   "name": "python3"
  },
  "language_info": {
   "codemirror_mode": {
    "name": "ipython",
    "version": 3
   },
   "file_extension": ".py",
   "mimetype": "text/x-python",
   "name": "python",
   "nbconvert_exporter": "python",
   "pygments_lexer": "ipython3",
   "version": "3.11.2"
  },
  "vscode": {
   "interpreter": {
    "hash": "7ce87cd7785718493854dd4fd9b106cf8caf02fcaf29cf2056c1f0b44ba5db32"
   }
  }
 },
 "nbformat": 4,
 "nbformat_minor": 5
}
