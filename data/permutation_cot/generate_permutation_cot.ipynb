{
 "cells": [
  {
   "cell_type": "code",
   "execution_count": 2,
   "id": "91094326",
   "metadata": {},
   "outputs": [],
   "source": [
    "import numpy as np\n",
    "import torch\n",
    "from tqdm import tqdm\n",
    "import os\n"
   ]
  },
  {
   "cell_type": "code",
   "execution_count": 24,
   "id": "4399fd97",
   "metadata": {},
   "outputs": [],
   "source": [
    "'''\n",
    "choose between train and val\n",
    "'''\n",
    "# filename = 'val'\n",
    "filename = 'train'"
   ]
  },
  {
   "cell_type": "code",
   "execution_count": 34,
   "id": "4d9d0831",
   "metadata": {},
   "outputs": [],
   "source": [
    "def f(a,b):\n",
    "    assert len(a) == len(b)\n",
    "    return [a[b[i]-1] for i in range(len(b))]\n",
    "\n",
    "def permute(list_of_permutations,partial_sum=True):\n",
    "    answer = list(range(1,len(list_of_permutations[0])+1))\n",
    "    for p in list_of_permutations:\n",
    "        if partial_sum:\n",
    "            answer += f(answer[-len(list(p)):], list(p))\n",
    "        else:\n",
    "            answer = f(answer, list(p))\n",
    "    return answer"
   ]
  },
  {
   "cell_type": "code",
   "execution_count": 37,
   "id": "4b0a8b3c",
   "metadata": {},
   "outputs": [
    {
     "name": "stdout",
     "output_type": "stream",
     "text": [
      "[[-3, 1, 5, 2, 4, 3, -4, -3, 2, 4, 3, 1, 5, -4, -3, 1, 2, 4, 3, 5, -4, -3, 2, 1, 5, 4, 3, -4, -2, 1, 2, 3, 4, 5, 1, 5, 2, 4, 3, 5, 4, 2, 1, 3, 5, 4, 1, 2, 3, 4, 5, 3, 2, 1], [-3, 2, 1, 3, 4, 5, -4, -3, 5, 1, 4, 2, 3, -4, -3, 1, 3, 2, 4, 5, -4, -3, 2, 4, 3, 5, 1, -4, -2, 1, 2, 3, 4, 5, 2, 1, 3, 4, 5, 5, 2, 4, 1, 3, 5, 4, 2, 1, 3, 4, 1, 2, 3, 5], [-3, 3, 5, 2, 4, 1, -4, -3, 5, 3, 2, 4, 1, -4, -3, 4, 2, 3, 1, 5, -4, -3, 5, 3, 4, 1, 2, -4, -2, 1, 2, 3, 4, 5, 3, 5, 2, 4, 1, 1, 2, 5, 4, 3, 4, 2, 5, 1, 3, 3, 5, 1, 4, 2], [-3, 3, 2, 4, 5, 1, -4, -3, 3, 2, 1, 5, 4, -4, -3, 1, 4, 3, 5, 2, -4, -3, 3, 2, 5, 1, 4, -4, -2, 1, 2, 3, 4, 5, 3, 2, 4, 5, 1, 4, 2, 3, 1, 5, 4, 1, 3, 5, 2, 3, 1, 2, 4, 5], [-3, 2, 3, 5, 1, 4, -4, -3, 3, 1, 5, 2, 4, -4, -3, 4, 3, 5, 2, 1, -4, -3, 1, 2, 5, 3, 4, -4, -2, 1, 2, 3, 4, 5, 2, 3, 5, 1, 4, 5, 2, 4, 3, 1, 3, 4, 1, 2, 5, 3, 4, 5, 1, 2], [-3, 2, 5, 4, 3, 1, -4, -3, 4, 5, 2, 1, 3, -4, -3, 1, 3, 5, 2, 4, -4, -3, 4, 1, 3, 2, 5, -4, -2, 1, 2, 3, 4, 5, 2, 5, 4, 3, 1, 3, 1, 5, 2, 4, 3, 5, 4, 1, 2, 1, 3, 4, 5, 2], [-3, 3, 4, 2, 1, 5, -4, -3, 3, 4, 1, 5, 2, -4, -3, 3, 2, 1, 5, 4, -4, -3, 2, 1, 4, 5, 3, -4, -2, 1, 2, 3, 4, 5, 3, 4, 2, 1, 5, 2, 1, 3, 5, 4, 3, 1, 2, 4, 5, 1, 3, 4, 5, 2], [-3, 1, 3, 5, 2, 4, -4, -3, 2, 1, 3, 5, 4, -4, -3, 3, 4, 2, 1, 5, -4, -3, 3, 5, 4, 2, 1, -4, -2, 1, 2, 3, 4, 5, 1, 3, 5, 2, 4, 3, 1, 5, 4, 2, 5, 4, 1, 3, 2, 1, 2, 3, 4, 5], [-3, 4, 3, 1, 5, 2, -4, -3, 1, 2, 5, 4, 3, -4, -3, 2, 1, 3, 4, 5, -4, -3, 2, 5, 3, 4, 1, -4, -2, 1, 2, 3, 4, 5, 4, 3, 1, 5, 2, 4, 3, 2, 5, 1, 3, 4, 2, 5, 1, 4, 1, 2, 5, 3], [-3, 3, 4, 2, 1, 5, -4, -3, 1, 4, 3, 5, 2, -4, -3, 4, 1, 2, 5, 3, -4, -3, 3, 4, 1, 5, 2, -4, -2, 1, 2, 3, 4, 5, 3, 4, 2, 1, 5, 3, 1, 2, 5, 4, 5, 3, 1, 4, 2, 1, 4, 5, 2, 3]]\n"
     ]
    }
   ],
   "source": [
    "rng = np.random.default_rng(1234)\n",
    "block_size = 64\n",
    "p = 5\n",
    "C = block_size // (2 * (p+2))\n",
    "N = 10\n",
    "random_list = rng.permuted(np.tile(np.arange(1,p+1), N * C).reshape(N*C,p), axis=1).reshape(N,C,p)\n",
    "input_length_list = np.random.randint(low = 1,high =C+1, size = (N,), dtype = np.int8)\n",
    "token_id_list = []\n",
    "for i in range(N):\n",
    "    current_id = []\n",
    "    current_input_tokens = random_list[i]\n",
    "    for j in range(C):\n",
    "        current_id += [-3]+ list(current_input_tokens[j])+ [-4]\n",
    "    token_id_list.append(current_id + [-2] + list(permute(random_list[i],partial_sum=True)))\n",
    "print( token_id_list)"
   ]
  },
  {
   "cell_type": "code",
   "execution_count": 44,
   "id": "4a04abf2",
   "metadata": {},
   "outputs": [
    {
     "data": {
      "text/plain": [
       "[5, -2]"
      ]
     },
     "execution_count": 44,
     "metadata": {},
     "output_type": "execute_result"
    }
   ],
   "source": [
    "token_id_list[0][:-1]"
   ]
  },
  {
   "cell_type": "code",
   "execution_count": 26,
   "id": "65db06ef",
   "metadata": {},
   "outputs": [
    {
     "name": "stdout",
     "output_type": "stream",
     "text": [
      "writing train...\n"
     ]
    },
    {
     "name": "stderr",
     "output_type": "stream",
     "text": [
      "1000000it [00:12, 81239.66it/s]\n"
     ]
    }
   ],
   "source": [
    "dtype = np.int8\n",
    "arr = np.memmap(filename + '.bin', dtype=dtype, mode='w+', shape=(block_size * len(token_id_list)))\n",
    "arr_label = np.memmap(filename + '_label.bin', dtype=dtype, mode='w+', shape=(block_size * len(token_id_list)))\n",
    "print(f\"writing {filename}...\")\n",
    "for jj, example in tqdm(enumerate(token_id_list)):\n",
    "    arr[jj * block_size : jj * block_size + len(example)-(p+2)] = example[:-(p+2)]\n",
    "    arr[jj * block_size + len(example)-1 : (jj + 1) * block_size] = 0\n",
    "    arr_label[jj * block_size : (1+jj) * block_size ] = -1\n",
    "    arr_label[jj * block_size + (p+2)*C:jj * block_size + (p+2)*(C+1)] = example[-(p+2):]\n",
    "    # pad to bock_size\n",
    "arr.flush()\n",
    "arr_label.flush()"
   ]
  },
  {
   "cell_type": "code",
   "execution_count": 21,
   "id": "410dccb1",
   "metadata": {},
   "outputs": [
    {
     "name": "stdout",
     "output_type": "stream",
     "text": [
      "[-3  1  5  2  4  3 -4 -3  2  4  3  1  5 -4 -3  1  2  4  3  5 -4 -3  2  1\n",
      "  5  4  3 -4 -3  2  1  3  4  5 -4 -3  5  1  4  2  3 -4 -3  1  3  2  4  5\n",
      " -4 -3  2  4  3  5  1 -4 -3  3  5  2  4  1 -4 -3  5  3  2  4  1 -4 -3  4\n",
      "  2  3  1  5 -4 -3  5  3  4  1  2 -4 -3  3  2  4  5  1 -4 -3  3  2  1  5\n",
      "  4 -4 -3  1  4  3  5  2 -4 -3  3  2  5  1  4 -4 -3  2  3  5  1  4 -4 -3\n",
      "  3  1  5  2  4 -4 -2  4  5  3  1  0  0  0  0  0  0  0  0  0  0  0  0  0\n",
      "  0  0  0  0  0  0  0  0  0  0  0  0  0  0  0  0  0  0  0  0  0  0  0  0\n",
      "  0  0  0  0  0  0  0  0  0  0  0  0  0  0  0  0  0  0  0  0  0  0  0  0\n",
      "  0  0  0  0  0  0  0  0]\n"
     ]
    }
   ],
   "source": [
    "print(arr[:200])"
   ]
  },
  {
   "cell_type": "code",
   "execution_count": 5,
   "id": "a507a231",
   "metadata": {},
   "outputs": [],
   "source": [
    "data_dir = os.path.join('data', dataset)\n",
    "train_data = np.memmap(os.path.join(data_dir, 'train.bin'), dtype=np.uint16, mode='r')\n",
    "train_label = np.memmap(os.path.join(data_dir, 'train_label.bin'), dtype=np.int16, mode='r')\n",
    "val_data = np.memmap(os.path.join(data_dir, 'val.bin'), dtype=np.uint16, mode='r')\n",
    "val_label = np.memmap(os.path.join(data_dir, 'val_label.bin'), dtype=np.int16, mode='r')\n",
    "def get_batch(split):\n",
    "    data = train_data if split == 'train' else val_data\n",
    "    label = train_label if split == 'train' else val_label\n",
    "    ix = torch.randint(len(data) // block_size, (batch_size,))\n",
    "    x = torch.stack([torch.from_numpy((data[i * block_size:(i+1)*block_size]).astype(np.int64)) for i in ix])\n",
    "    y = torch.stack([torch.from_numpy((label[i * block_size:(i+1)*block_size]).astype(np.int64)) for i in ix])\n",
    "    if device_type == 'cuda':\n",
    "        # pin arrays x,y, which allows us to move them to GPU asynchronously (non_blocking=True)\n",
    "        x, y = x.pin_memory().to(device, non_blocking=True), y.pin_memory().to(device, non_blocking=True)\n",
    "    else:\n",
    "        x, y = x.to(device), y.to(device)\n",
    "    return x, y"
   ]
  },
  {
   "cell_type": "code",
   "execution_count": 5,
   "id": "fe38724d",
   "metadata": {},
   "outputs": [
    {
     "ename": "UFuncTypeError",
     "evalue": "ufunc 'add' did not contain a loop with signature matching types (dtype('int8'), dtype('<U1')) -> None",
     "output_type": "error",
     "traceback": [
      "\u001b[0;31m---------------------------------------------------------------------------\u001b[0m",
      "\u001b[0;31mUFuncTypeError\u001b[0m                            Traceback (most recent call last)",
      "Cell \u001b[0;32mIn[5], line 5\u001b[0m\n\u001b[1;32m      3\u001b[0m \u001b[39mfor\u001b[39;00m i \u001b[39min\u001b[39;00m random_ints[:\u001b[39m-\u001b[39m\u001b[39m1\u001b[39m]:\n\u001b[1;32m      4\u001b[0m     exp \u001b[39m+\u001b[39m\u001b[39m=\u001b[39m \u001b[39mstr\u001b[39m(i) \u001b[39m+\u001b[39m \u001b[39m\"\u001b[39m\u001b[39m+\u001b[39m\u001b[39m\"\u001b[39m\n\u001b[0;32m----> 5\u001b[0m exp \u001b[39m+\u001b[39m\u001b[39m=\u001b[39m random_ints[:\u001b[39m-\u001b[39;49m\u001b[39m1\u001b[39;49m] \u001b[39m+\u001b[39;49m \u001b[39m'\u001b[39;49m\u001b[39m=\u001b[39;49m\u001b[39m'\u001b[39;49m\n\u001b[1;32m      6\u001b[0m \u001b[39mprint\u001b[39m(exp)\n\u001b[1;32m      7\u001b[0m random_ints\u001b[39m.\u001b[39msum()\n",
      "\u001b[0;31mUFuncTypeError\u001b[0m: ufunc 'add' did not contain a loop with signature matching types (dtype('int8'), dtype('<U1')) -> None"
     ]
    }
   ],
   "source": [
    "random_ints = np.random.randint(low = 0,high =2, size = 100, dtype = np.int8)\n",
    "exp = ''\n",
    "for i in random_ints[:-1]:\n",
    "    exp += str(i) + \"+\"\n",
    "exp += random_ints[:-1] + '='\n",
    "print(exp)\n",
    "random_ints.sum()"
   ]
  },
  {
   "cell_type": "code",
   "execution_count": 7,
   "id": "eeb37f96",
   "metadata": {},
   "outputs": [
    {
     "data": {
      "text/plain": [
       "array([0, 0, 1, 0, 1, 1, 1, 0, 1, 1, 0, 0, 1, 0, 0, 1, 1, 1, 0, 1, 0, 0,\n",
       "       0, 1, 0, 1, 1, 1, 1, 0, 1, 1, 0, 0, 0, 1, 1, 1, 0, 1, 0, 0, 1, 0,\n",
       "       1, 1, 0, 0, 1, 1, 1, 0, 1, 1, 0, 1, 1, 1, 1, 1, 1, 1, 1, 1, 0, 0,\n",
       "       1, 0, 0, 1, 0, 1, 1, 1, 1, 1, 1, 0, 1, 1, 0, 1, 0, 0, 0, 0, 1, 1,\n",
       "       1, 1, 1, 1, 0, 0, 0, 0, 0, 1, 1, 1], dtype=int8)"
      ]
     },
     "execution_count": 7,
     "metadata": {},
     "output_type": "execute_result"
    }
   ],
   "source": [
    "random_ints"
   ]
  },
  {
   "cell_type": "code",
   "execution_count": 4,
   "id": "62c5f019",
   "metadata": {},
   "outputs": [
    {
     "name": "stdout",
     "output_type": "stream",
     "text": [
      "50\n"
     ]
    }
   ],
   "source": [
    "print(1+1+1+0+1+1+1+0+1+1+0+0+1+0+1+1+0+1+0+0+1+1+0+0+1+0+1+0+1+1+0+0+1+0+0+0+1+0+0+0+1+0+1+0+0+1+0+0+0+1+0+1+1+0+0+1+1+0+1+1+1+0+0+0+1+1+1+0+0+1+1+1+0+0+0+1+1+0+0+0+1+0+1+0+0+1+1+0+1+1+1+1+0+1+0+1+1+0+0+0)"
   ]
  },
  {
   "cell_type": "code",
   "execution_count": 6,
   "id": "5f01947b",
   "metadata": {},
   "outputs": [
    {
     "data": {
      "text/plain": [
       "array([ 0.10775194,  0.82486141,  1.39492264, -0.27424914,  0.62799271,\n",
       "       -0.67446664, -0.96435732,  1.24493219,  0.09221922,  0.43513877,\n",
       "       -1.91110539,  0.79870031,  0.38872974, -2.07428724, -0.60261176,\n",
       "       -1.07780889, -0.56687404, -0.60352224,  1.28743884,  1.56997499,\n",
       "        0.23927013, -0.53352818, -1.00921134, -0.97632384,  0.39886744,\n",
       "       -0.62070398, -0.76408363,  0.9848463 , -0.50201059,  0.33955341,\n",
       "        0.63073409, -0.25691401,  0.49072394, -0.62182025, -0.12275391,\n",
       "        0.83969668,  0.8973218 ,  3.09926477,  1.82240243, -1.01629954,\n",
       "       -0.06565471,  0.73316766,  0.89292083,  1.51522196, -1.24694117,\n",
       "        1.43019879, -1.64006693, -0.3832247 , -0.66819771, -1.55994517,\n",
       "       -0.15607834,  0.8659179 , -0.07323536,  1.00829473, -0.02956538,\n",
       "       -0.11243826, -0.34180768,  1.30008599, -0.97497401, -0.95254486,\n",
       "        0.02505601, -0.98974753, -0.92236767,  0.2877739 , -0.35125652,\n",
       "        1.12736306, -0.79398367, -1.05277052,  0.31783241, -0.59624527,\n",
       "        1.44136003, -0.90282434, -0.70868632, -1.98931671, -1.25867585,\n",
       "       -0.95658665, -0.78425377,  0.39667268,  0.87046469,  0.10261665,\n",
       "       -0.13300676,  0.5717015 , -0.76447064,  0.22568388,  0.61336665,\n",
       "        0.01081189,  1.14641535,  0.22427346,  0.69834502,  0.85920204,\n",
       "        0.52654736, -0.70958207, -1.03240437, -1.42778429,  0.33488912,\n",
       "        0.09581042,  1.15791853, -0.88970196, -0.23684442,  0.67291775])"
      ]
     },
     "execution_count": 6,
     "metadata": {},
     "output_type": "execute_result"
    }
   ],
   "source": [
    "np.random.randn(100)"
   ]
  },
  {
   "cell_type": "code",
   "execution_count": 8,
   "id": "de3d0de0",
   "metadata": {},
   "outputs": [],
   "source": [
    "\n",
    "a = np.array([0.10775194,  0.82486141,  1.39492264, -0.27424914,  0.62799271,\n",
    "       -0.67446664, -0.96435732,  1.24493219,  0.09221922,  0.43513877,\n",
    "       -1.91110539,  0.79870031,  0.38872974, -2.07428724, -0.60261176,\n",
    "       -1.07780889, -0.56687404, -0.60352224,  1.28743884,  1.56997499,\n",
    "        0.23927013, -0.53352818, -1.00921134, -0.97632384,  0.39886744,\n",
    "       -0.62070398, -0.76408363,  0.9848463 , -0.50201059,  0.33955341,\n",
    "        0.63073409, -0.25691401,  0.49072394, -0.62182025, -0.12275391,\n",
    "        0.83969668,  0.8973218 ,  3.09926477,  1.82240243, -1.01629954,\n",
    "       -0.06565471,  0.73316766,  0.89292083,  1.51522196, -1.24694117,\n",
    "        1.43019879, -1.64006693, -0.3832247 , -0.66819771, -1.55994517,\n",
    "       -0.15607834,  0.8659179 , -0.07323536,  1.00829473, -0.02956538,\n",
    "       -0.11243826, -0.34180768,  1.30008599, -0.97497401, -0.95254486,\n",
    "        0.02505601, -0.98974753, -0.92236767,  0.2877739 , -0.35125652,\n",
    "        1.12736306, -0.79398367, -1.05277052,  0.31783241, -0.59624527,\n",
    "        1.44136003, -0.90282434, -0.70868632, -1.98931671, -1.25867585,\n",
    "       -0.95658665, -0.78425377,  0.39667268,  0.87046469,  0.10261665,\n",
    "       -0.13300676,  0.5717015 , -0.76447064,  0.22568388,  0.61336665,\n",
    "        0.01081189,  1.14641535,  0.22427346,  0.69834502,  0.85920204,\n",
    "        0.52654736, -0.70958207, -1.03240437, -1.42778429,  0.33488912,\n",
    "        0.09581042,  1.15791853, -0.88970196, -0.23684442,  0.67291775])"
   ]
  },
  {
   "cell_type": "code",
   "execution_count": 11,
   "id": "606aa60a",
   "metadata": {},
   "outputs": [
    {
     "data": {
      "text/plain": [
       "array([-2.07428724, -1.98931671, -1.91110539, -1.64006693, -1.55994517,\n",
       "       -1.42778429, -1.25867585, -1.24694117, -1.07780889, -1.05277052,\n",
       "       -1.03240437, -1.01629954, -1.00921134, -0.98974753, -0.97632384,\n",
       "       -0.97497401, -0.96435732, -0.95658665, -0.95254486, -0.92236767,\n",
       "       -0.90282434, -0.88970196, -0.79398367, -0.78425377, -0.76447064,\n",
       "       -0.76408363, -0.70958207, -0.70868632, -0.67446664, -0.66819771,\n",
       "       -0.62182025, -0.62070398, -0.60352224, -0.60261176, -0.59624527,\n",
       "       -0.56687404, -0.53352818, -0.50201059, -0.3832247 , -0.35125652,\n",
       "       -0.34180768, -0.27424914, -0.25691401, -0.23684442, -0.15607834,\n",
       "       -0.13300676, -0.12275391, -0.11243826, -0.07323536, -0.06565471,\n",
       "       -0.02956538,  0.01081189,  0.02505601,  0.09221922,  0.09581042,\n",
       "        0.10261665,  0.10775194,  0.22427346,  0.22568388,  0.23927013,\n",
       "        0.2877739 ,  0.31783241,  0.33488912,  0.33955341,  0.38872974,\n",
       "        0.39667268,  0.39886744,  0.43513877,  0.49072394,  0.52654736,\n",
       "        0.5717015 ,  0.61336665,  0.62799271,  0.63073409,  0.67291775,\n",
       "        0.69834502,  0.73316766,  0.79870031,  0.82486141,  0.83969668,\n",
       "        0.85920204,  0.8659179 ,  0.87046469,  0.89292083,  0.8973218 ,\n",
       "        0.9848463 ,  1.00829473,  1.12736306,  1.14641535,  1.15791853,\n",
       "        1.24493219,  1.28743884,  1.30008599,  1.39492264,  1.43019879,\n",
       "        1.44136003,  1.51522196,  1.56997499,  1.82240243,  3.09926477])"
      ]
     },
     "execution_count": 11,
     "metadata": {},
     "output_type": "execute_result"
    }
   ],
   "source": [
    "a"
   ]
  },
  {
   "cell_type": "code",
   "execution_count": null,
   "id": "51bcf19e",
   "metadata": {},
   "outputs": [],
   "source": []
  }
 ],
 "metadata": {
  "kernelspec": {
   "display_name": "Python 3 (ipykernel)",
   "language": "python",
   "name": "python3"
  },
  "language_info": {
   "codemirror_mode": {
    "name": "ipython",
    "version": 3
   },
   "file_extension": ".py",
   "mimetype": "text/x-python",
   "name": "python",
   "nbconvert_exporter": "python",
   "pygments_lexer": "ipython3",
   "version": "3.11.2"
  },
  "vscode": {
   "interpreter": {
    "hash": "7ce87cd7785718493854dd4fd9b106cf8caf02fcaf29cf2056c1f0b44ba5db32"
   }
  }
 },
 "nbformat": 4,
 "nbformat_minor": 5
}
